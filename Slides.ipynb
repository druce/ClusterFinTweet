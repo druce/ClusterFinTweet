{
 "cells": [
  {
   "cell_type": "markdown",
   "metadata": {},
   "source": [
    "# ClusterFinTwit\n",
    "\n",
    "### Druce Vertes\n",
    "### Metis Data Science Bootcamp\n",
    "### November 16, 2018\n"
   ]
  },
  {
   "cell_type": "markdown",
   "metadata": {},
   "source": [
    "# Source Data:\n",
    "\n",
    "![streeteye.png](streeteye.png)"
   ]
  },
  {
   "cell_type": "markdown",
   "metadata": {},
   "source": [
    "# Source Data:\n",
    "    - Panel of ~600 Financial Twitter Screen Names\n",
    "    - Attempted to identify most influential users who frequently share financial news\n",
    "        - Financial journalists\n",
    "        - Professional pundits\n",
    "        - Financial professionals positioning themselves as experts (fine line between last 2)\n",
    "        - Academics\n",
    "    - 250,000 URLs shared October 2017-mid-November 2018"
   ]
  },
  {
   "cell_type": "markdown",
   "metadata": {},
   "source": [
    "# Motivation:\n",
    "- Improve ability to organize news by topic\n",
    "- Recommend people to follow on Twitter \n",
    "    - Describe how often they tweet on different subjects\n",
    "- Understand FinTwit structure\n",
    "- Cool visuals and viral blog post"
   ]
  },
  {
   "cell_type": "markdown",
   "metadata": {},
   "source": [
    "# Methodology\n",
    "\n",
    "  1. Preprocess\n",
    "  2. Lemmatize\n",
    "  3. Tokenize common ngrams\n",
    "  4. Create topics\n",
    "  5. Associate Twitter screen names to topics\n",
    "  6. Cluster screen names\n",
    "  7. Visualize\n",
    "  \n"
   ]
  },
  {
   "cell_type": "markdown",
   "metadata": {},
   "source": [
    "# Preprocess\n",
    "\n",
    "- u.k. -> 'u' , 'k' -> 💨\n",
    "\n",
    "- 's&p 500', 's & p 500', 's. & p. 500', 's and p 500' -> 's' , 'p' -> 💨 \n",
    "\n",
    "- 'the fed' -> 'feed' 💩\n",
    "\n",
    "- 'u_k', 's_p_500', 'the_fed' 👍🏻"
   ]
  },
  {
   "cell_type": "markdown",
   "metadata": {},
   "source": [
    "# Lemmatize\n",
    "\n",
    "- 'Allies' -> 'ally'\n",
    "- 'Exploring' -> 'explore'\n",
    "- Treat all variations of words the same for purpose of topic analysis"
   ]
  },
  {
   "cell_type": "markdown",
   "metadata": {},
   "source": [
    "# Tokenize ngrams (after lemmatizing)\n",
    "\n",
    "- 'social' suggests one set of topics\n",
    "- 'security' suggest another set of topics\n",
    "- 'social security' suggests a third set of topics\n",
    "- Combine into 'social_security'\n",
    "- 300 common ngrams\n"
   ]
  },
  {
   "cell_type": "markdown",
   "metadata": {},
   "source": [
    "![bigrams.png](bigrams.png)"
   ]
  },
  {
   "cell_type": "markdown",
   "metadata": {},
   "source": [
    "# Corpus\n",
    "\n",
    "![preprocess.png](preprocess.png)"
   ]
  },
  {
   "cell_type": "markdown",
   "metadata": {},
   "source": [
    "# Topic analysis\n",
    "\n",
    "- 80 Topics\n",
    "\n",
    "    - LSI\n",
    "    - NMF\n",
    "    - LDA (rejected)\n",
    "    - Word2Vec\n",
    "        - Initialized to Google News 300-vectors\n",
    "        - Trained further using headline corpus"
   ]
  },
  {
   "cell_type": "markdown",
   "metadata": {},
   "source": [
    "![w2v1.png](w2v1.png)"
   ]
  },
  {
   "cell_type": "markdown",
   "metadata": {},
   "source": [
    "![w2v2.png](w2v2.png)"
   ]
  },
  {
   "cell_type": "markdown",
   "metadata": {},
   "source": [
    "# Topic Analysis\n",
    "Each of these we can represent\n",
    "TODO:\n",
    "    load pickle of embeddings in cod\n",
    "    tsne, image\n",
    "    insert word2vec image"
   ]
  },
  {
   "cell_type": "markdown",
   "metadata": {},
   "source": [
    "# Topic Analysis\n",
    "\n",
    "- Concatenate all 3 (LDI, NMF, Word2vec): 460 columns\n",
    "- PCA to 80 columns\n",
    "- Plot topics with TSNE\n"
   ]
  },
  {
   "cell_type": "markdown",
   "metadata": {},
   "source": [
    "# Cluster Analysis\n",
    "\n",
    "- For each screen name, average the topics they talk about\n",
    "- Chart"
   ]
  },
  {
   "cell_type": "markdown",
   "metadata": {},
   "source": [
    "# Cluster Analysis\n",
    "\n",
    "- But topics aren't all the information we have\n",
    "- In many case they shared the same actual URL\n",
    "- The more URLs they have in common, the more likely they are similar\n",
    "    - For ReformedBroker, we can say, he shared 1000 unique URLs\n",
    "    - AbsoluteReturn shared 800 unique URLs\n",
    "    - 40 URLs were shared by both\n",
    "    - ReformedBroker overlapped with AbsoluteReturn on 4% of his shares\n",
    "    - Conversely AbsoluteReturn overlapped with ReformedBroker on 5% of his shares\n",
    "    - Create 500 x 500 matrix of % of URLs shared with each other (coshare matrix)"
   ]
  },
  {
   "cell_type": "markdown",
   "metadata": {},
   "source": [
    "# Cluster Analysis\n",
    "    - We have even more info\n",
    "    - AbsoluteReturn and ReformedBroker follow each other\n",
    "    - Build a follower matrix of who follows whom\n",
    "    - Do PCA on all 3 matrices\n",
    "        500x80 matrix of reduced topics by user\n",
    "        500x500 coshare matrix\n",
    "        500x500 follower matrix\n",
    "    - Chart with TSNE\n",
    "    "
   ]
  },
  {
   "cell_type": "markdown",
   "metadata": {},
   "source": [
    "# Final visualization\n",
    "\n"
   ]
  },
  {
   "cell_type": "markdown",
   "metadata": {},
   "source": [
    "# Conclusion\n",
    "1. Discovery is hard\n",
    "2. Navigating relationships in social media is hard\n",
    "    - Topic\n",
    "    - Influence\n",
    "    - Time\n",
    "3. Million Dollar Idea:\n",
    "    Footpedals and Helmet to navigate Twitter, StackOverflow, Reddit etc.\n",
    "    "
   ]
  },
  {
   "cell_type": "code",
   "execution_count": null,
   "metadata": {},
   "outputs": [],
   "source": []
  }
 ],
 "metadata": {
  "kernelspec": {
   "display_name": "Python 3",
   "language": "python",
   "name": "python3"
  },
  "language_info": {
   "codemirror_mode": {
    "name": "ipython",
    "version": 3
   },
   "file_extension": ".py",
   "mimetype": "text/x-python",
   "name": "python",
   "nbconvert_exporter": "python",
   "pygments_lexer": "ipython3",
   "version": "3.6.6"
  }
 },
 "nbformat": 4,
 "nbformat_minor": 2
}
